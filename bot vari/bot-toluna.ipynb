{
 "cells": [
  {
   "cell_type": "code",
   "execution_count": 34,
   "id": "20ddd7f7",
   "metadata": {},
   "outputs": [],
   "source": [
    "def login(driver,username,password):\n",
    "    frame = WebDriverWait(driver, 10).until(\n",
    "         EC.presence_of_element_located((By.XPATH,'//iframe[@title=\"TrustArc Cookie Consent Manager\"]'))\n",
    "    )\n",
    "    driver.switch_to.frame(2)\n",
    "    driver.switch_to.frame(2)\n",
    "    WebDriverWait(driver, 10).until(\n",
    "        EC.presence_of_element_located((By.XPATH,'//a[text()=\"Accetta e procedi\"]'))\n",
    "    ).click()\n",
    "\n",
    "    WebDriverWait(driver,2).until(\n",
    "        EC.presence_of_element_located((By.XPATH,'//span[text()=\"Accedi\"]'))\n",
    "    ).click()\n",
    "    WebDriverWait(driver,2).until(\n",
    "        EC.presence_of_element_located((By.XPATH,'//input[@id=\"usernameSignIn\"]'))\n",
    "    ).send_keys(username)\n",
    "    WebDriverWait(driver,2).until(\n",
    "        EC.presence_of_element_located((By.XPATH,'//input[@id=\"passwordSignIn\"]'))\n",
    "    ).send_keys(password)\n"
   ]
  },
  {
   "cell_type": "code",
   "execution_count": null,
   "id": "6ec0e0c6",
   "metadata": {},
   "outputs": [],
   "source": []
  },
  {
   "cell_type": "code",
   "execution_count": 35,
   "id": "95df2d32",
   "metadata": {},
   "outputs": [
    {
     "name": "stderr",
     "output_type": "stream",
     "text": [
      "\n",
      "\n",
      "====== WebDriver manager ======\n",
      "Current google-chrome version is 103.0.5060\n",
      "Get LATEST chromedriver version for 103.0.5060 google-chrome\n",
      "Trying to download new driver from https://chromedriver.storage.googleapis.com/103.0.5060.53/chromedriver_win32.zip\n",
      "Driver has been saved in cache [C:\\Users\\Manuel\\.wdm\\drivers\\chromedriver\\win32\\103.0.5060.53]\n"
     ]
    },
    {
     "ename": "TimeoutException",
     "evalue": "Message: \nStacktrace:\nBacktrace:\n\tOrdinal0 [0x00F26463+2188387]\n\tOrdinal0 [0x00EBE461+1762401]\n\tOrdinal0 [0x00DD3D78+802168]\n\tOrdinal0 [0x00E01880+989312]\n\tOrdinal0 [0x00E01B1B+989979]\n\tOrdinal0 [0x00E2E912+1173778]\n\tOrdinal0 [0x00E1C824+1099812]\n\tOrdinal0 [0x00E2CC22+1166370]\n\tOrdinal0 [0x00E1C5F6+1099254]\n\tOrdinal0 [0x00DF6BE0+945120]\n\tOrdinal0 [0x00DF7AD6+948950]\n\tGetHandleVerifier [0x011C71F2+2712546]\n\tGetHandleVerifier [0x011B886D+2652765]\n\tGetHandleVerifier [0x00FB002A+520730]\n\tGetHandleVerifier [0x00FAEE06+516086]\n\tOrdinal0 [0x00EC468B+1787531]\n\tOrdinal0 [0x00EC8E88+1805960]\n\tOrdinal0 [0x00EC8F75+1806197]\n\tOrdinal0 [0x00ED1DF1+1842673]\n\tBaseThreadInitThunk [0x779BFA29+25]\n\tRtlGetAppContainerNamedObjectPath [0x77BB7A9E+286]\n\tRtlGetAppContainerNamedObjectPath [0x77BB7A6E+238]\n",
     "output_type": "error",
     "traceback": [
      "\u001b[1;31m---------------------------------------------------------------------------\u001b[0m",
      "\u001b[1;31mTimeoutException\u001b[0m                          Traceback (most recent call last)",
      "\u001b[1;32m<ipython-input-35-bee607911a99>\u001b[0m in \u001b[0;36m<module>\u001b[1;34m\u001b[0m\n\u001b[0;32m     16\u001b[0m \u001b[0mpassword\u001b[0m \u001b[1;33m=\u001b[0m \u001b[1;34m\"77CarteArancioni77\"\u001b[0m\u001b[1;33m\u001b[0m\u001b[1;33m\u001b[0m\u001b[0m\n\u001b[0;32m     17\u001b[0m \u001b[1;33m\u001b[0m\u001b[0m\n\u001b[1;32m---> 18\u001b[1;33m \u001b[0mlogin\u001b[0m\u001b[1;33m(\u001b[0m\u001b[0mdriver\u001b[0m\u001b[1;33m,\u001b[0m\u001b[0musername\u001b[0m\u001b[1;33m,\u001b[0m\u001b[0mpassword\u001b[0m\u001b[1;33m)\u001b[0m\u001b[1;33m\u001b[0m\u001b[1;33m\u001b[0m\u001b[0m\n\u001b[0m",
      "\u001b[1;32m<ipython-input-34-cf4db53e5557>\u001b[0m in \u001b[0;36mlogin\u001b[1;34m(driver, username, password)\u001b[0m\n\u001b[0;32m      2\u001b[0m     \u001b[0mtime\u001b[0m\u001b[1;33m.\u001b[0m\u001b[0msleep\u001b[0m\u001b[1;33m(\u001b[0m\u001b[1;36m2\u001b[0m\u001b[1;33m)\u001b[0m\u001b[1;33m\u001b[0m\u001b[1;33m\u001b[0m\u001b[0m\n\u001b[0;32m      3\u001b[0m     \u001b[0mdriver\u001b[0m\u001b[1;33m.\u001b[0m\u001b[0mswitch_to\u001b[0m\u001b[1;33m.\u001b[0m\u001b[0mframe\u001b[0m\u001b[1;33m(\u001b[0m\u001b[1;36m6\u001b[0m\u001b[1;33m)\u001b[0m\u001b[1;33m\u001b[0m\u001b[1;33m\u001b[0m\u001b[0m\n\u001b[1;32m----> 4\u001b[1;33m     WebDriverWait(driver, 10).until(\n\u001b[0m\u001b[0;32m      5\u001b[0m         \u001b[0mEC\u001b[0m\u001b[1;33m.\u001b[0m\u001b[0mpresence_of_element_located\u001b[0m\u001b[1;33m(\u001b[0m\u001b[1;33m(\u001b[0m\u001b[0mBy\u001b[0m\u001b[1;33m.\u001b[0m\u001b[0mXPATH\u001b[0m\u001b[1;33m,\u001b[0m\u001b[1;34m'//a[text()=\"Accetta e procedi\"]'\u001b[0m\u001b[1;33m)\u001b[0m\u001b[1;33m)\u001b[0m\u001b[1;33m\u001b[0m\u001b[1;33m\u001b[0m\u001b[0m\n\u001b[0;32m      6\u001b[0m     ).click()\n",
      "\u001b[1;32m~\\anaconda3\\lib\\site-packages\\selenium\\webdriver\\support\\wait.py\u001b[0m in \u001b[0;36muntil\u001b[1;34m(self, method, message)\u001b[0m\n\u001b[0;32m     87\u001b[0m             \u001b[1;32mif\u001b[0m \u001b[0mtime\u001b[0m\u001b[1;33m.\u001b[0m\u001b[0mtime\u001b[0m\u001b[1;33m(\u001b[0m\u001b[1;33m)\u001b[0m \u001b[1;33m>\u001b[0m \u001b[0mend_time\u001b[0m\u001b[1;33m:\u001b[0m\u001b[1;33m\u001b[0m\u001b[1;33m\u001b[0m\u001b[0m\n\u001b[0;32m     88\u001b[0m                 \u001b[1;32mbreak\u001b[0m\u001b[1;33m\u001b[0m\u001b[1;33m\u001b[0m\u001b[0m\n\u001b[1;32m---> 89\u001b[1;33m         \u001b[1;32mraise\u001b[0m \u001b[0mTimeoutException\u001b[0m\u001b[1;33m(\u001b[0m\u001b[0mmessage\u001b[0m\u001b[1;33m,\u001b[0m \u001b[0mscreen\u001b[0m\u001b[1;33m,\u001b[0m \u001b[0mstacktrace\u001b[0m\u001b[1;33m)\u001b[0m\u001b[1;33m\u001b[0m\u001b[1;33m\u001b[0m\u001b[0m\n\u001b[0m\u001b[0;32m     90\u001b[0m \u001b[1;33m\u001b[0m\u001b[0m\n\u001b[0;32m     91\u001b[0m     \u001b[1;32mdef\u001b[0m \u001b[0muntil_not\u001b[0m\u001b[1;33m(\u001b[0m\u001b[0mself\u001b[0m\u001b[1;33m,\u001b[0m \u001b[0mmethod\u001b[0m\u001b[1;33m,\u001b[0m \u001b[0mmessage\u001b[0m\u001b[1;33m=\u001b[0m\u001b[1;34m''\u001b[0m\u001b[1;33m)\u001b[0m\u001b[1;33m:\u001b[0m\u001b[1;33m\u001b[0m\u001b[1;33m\u001b[0m\u001b[0m\n",
      "\u001b[1;31mTimeoutException\u001b[0m: Message: \nStacktrace:\nBacktrace:\n\tOrdinal0 [0x00F26463+2188387]\n\tOrdinal0 [0x00EBE461+1762401]\n\tOrdinal0 [0x00DD3D78+802168]\n\tOrdinal0 [0x00E01880+989312]\n\tOrdinal0 [0x00E01B1B+989979]\n\tOrdinal0 [0x00E2E912+1173778]\n\tOrdinal0 [0x00E1C824+1099812]\n\tOrdinal0 [0x00E2CC22+1166370]\n\tOrdinal0 [0x00E1C5F6+1099254]\n\tOrdinal0 [0x00DF6BE0+945120]\n\tOrdinal0 [0x00DF7AD6+948950]\n\tGetHandleVerifier [0x011C71F2+2712546]\n\tGetHandleVerifier [0x011B886D+2652765]\n\tGetHandleVerifier [0x00FB002A+520730]\n\tGetHandleVerifier [0x00FAEE06+516086]\n\tOrdinal0 [0x00EC468B+1787531]\n\tOrdinal0 [0x00EC8E88+1805960]\n\tOrdinal0 [0x00EC8F75+1806197]\n\tOrdinal0 [0x00ED1DF1+1842673]\n\tBaseThreadInitThunk [0x779BFA29+25]\n\tRtlGetAppContainerNamedObjectPath [0x77BB7A9E+286]\n\tRtlGetAppContainerNamedObjectPath [0x77BB7A6E+238]\n"
     ]
    }
   ],
   "source": [
    "import pandas as pd \n",
    "import time\n",
    "from selenium import *\n",
    "from selenium.webdriver.common.keys import Keys\n",
    "from selenium.webdriver.chrome.service import Service\n",
    "from webdriver_manager.chrome import ChromeDriverManager\n",
    "\n",
    "from selenium.webdriver.support.ui import WebDriverWait       \n",
    "from selenium.webdriver.common.by import By       \n",
    "from selenium.webdriver.support import expected_conditions as EC\n",
    "\n",
    "driver = webdriver.Chrome(service=Service(ChromeDriverManager().install()))\n",
    "driver.get(\"https://it.toluna.com/SurveyCenter/surveys\")\n",
    "\n",
    "username = \"L4553805k45\"\n",
    "password = \"77CarteArancioni77\"\n",
    "\n",
    "login(driver,username,password)\n"
   ]
  },
  {
   "cell_type": "code",
   "execution_count": null,
   "id": "ebf32412",
   "metadata": {},
   "outputs": [],
   "source": []
  }
 ],
 "metadata": {
  "kernelspec": {
   "display_name": "Python 3",
   "language": "python",
   "name": "python3"
  },
  "language_info": {
   "codemirror_mode": {
    "name": "ipython",
    "version": 3
   },
   "file_extension": ".py",
   "mimetype": "text/x-python",
   "name": "python",
   "nbconvert_exporter": "python",
   "pygments_lexer": "ipython3",
   "version": "3.8.8"
  }
 },
 "nbformat": 4,
 "nbformat_minor": 5
}
